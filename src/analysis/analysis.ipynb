{
 "cells": [
  {
   "cell_type": "code",
   "execution_count": 18,
   "metadata": {
    "collapsed": true
   },
   "outputs": [],
   "source": [
    "import pandas as pd\n",
    "import numpy as np\n",
    "import nltk\n",
    "from collections import defaultdict\n",
    "from collections import Counter\n",
    "from src.classes.database.offer import MongoOffer\n",
    "\n",
    "tokenizer = nltk.RegexpTokenizer(r'\\w+')"
   ]
  },
  {
   "cell_type": "code",
   "execution_count": 4,
   "outputs": [],
   "source": [
    "token_list = [tokenizer.tokenize(x.selling) for x in MongoOffer.objects()]\n",
    "tagged = nltk.pos_tag(token_list[0])"
   ],
   "metadata": {
    "collapsed": false
   }
  },
  {
   "cell_type": "code",
   "execution_count": 44,
   "outputs": [],
   "source": [
    "def get_all_words(token_list: list[list]) -> list:\n",
    "    words = set()\n",
    "    for sentence in token_list:\n",
    "        for word in sentence:\n",
    "            words.add(word)\n",
    "    return sorted(words)\n",
    "\n",
    "def next_word_occurrence(key: str, look_ahead: int, tokens: list[list]) -> dict:\n",
    "    counter = defaultdict(int)\n",
    "    for sentence in tokens:\n",
    "        for x in range(0, len(sentence)):\n",
    "            if key == sentence[x]: #if we find the key in a sentence\n",
    "                if (x+look_ahead) < len(sentence):\n",
    "                    counter[sentence[x+look_ahead]] += 1\n",
    "    return counter\n",
    "\n",
    "def calculate_all_probabilities(tokens: list[list]) -> dict:\n",
    "    all_words = get_all_words(tokens)\n",
    "\n",
    "    #Generating a list of all words\n",
    "    word_canvas = {}\n",
    "    for word in all_words:\n",
    "        word_canvas[word] = None\n",
    "\n",
    "    p_word = word_canvas.copy()\n",
    "    for word in p_word:\n",
    "        p_word[word] = {'word': word, 'p': word_canvas.copy()}\n",
    "\n",
    "    return p_word"
   ],
   "metadata": {
    "collapsed": false
   }
  },
  {
   "cell_type": "code",
   "execution_count": 45,
   "outputs": [
    {
     "data": {
      "text/plain": "{'word': '0',\n 'p': {'0': None,\n  '001': None,\n  '1': None,\n  '10': None,\n  '100': None,\n  '1000': None,\n  '1000xm4': None,\n  '10100f': None,\n  '10105': None,\n  '10400': None,\n  '1050': None,\n  '1070': None,\n  '10700k': None,\n  '10700kf': None,\n  '1070ti': None,\n  '1080': None,\n  '1080ti': None,\n  '10870h': None,\n  '10900k': None,\n  '10gb': None,\n  '10uh': None,\n  '11': None,\n  '1135g7': None,\n  '11400': None,\n  '11400f': None,\n  '1165g7': None,\n  '11700': None,\n  '11800h': None,\n  '11th': None,\n  '12': None,\n  '120hz': None,\n  '120mm': None,\n  '12600k': None,\n  '12700f': None,\n  '12700k': None,\n  '128gb': None,\n  '12900k': None,\n  '12tb': None,\n  '12th': None,\n  '13': None,\n  '1300x': None,\n  '13600k': None,\n  '13700k': None,\n  '14': None,\n  '140w': None,\n  '1440p': None,\n  '144hz': None,\n  '14in': None,\n  '15': None,\n  '16': None,\n  '1600': None,\n  '1650': None,\n  '165hz': None,\n  '1660': None,\n  '168gb': None,\n  '16gb': None,\n  '16gbx2': None,\n  '16gvr': None,\n  '17': None,\n  '1700': None,\n  '17000': None,\n  '175hz': None,\n  '18tb': None,\n  '1b': None,\n  '1ms': None,\n  '1tb': None,\n  '1x': None,\n  '2': None,\n  '2014': None,\n  '2016': None,\n  '2017': None,\n  '2018': None,\n  '2019': None,\n  '2020': None,\n  '2021': None,\n  '2022': None,\n  '2060': None,\n  '2070': None,\n  '2080': None,\n  '2080ti': None,\n  '21': None,\n  '2133': None,\n  '2133c15d': None,\n  '22': None,\n  '2230': None,\n  '24': None,\n  '240': None,\n  '2400': None,\n  '2400mhz': None,\n  '2420': None,\n  '2470v2': None,\n  '24gb': None,\n  '256': None,\n  '256gb': None,\n  '26': None,\n  '2600x': None,\n  '2666': None,\n  '2666mhz': None,\n  '2680v3': None,\n  '26k': None,\n  '27': None,\n  '2700x': None,\n  '270e': None,\n  '27gl850': None,\n  '27gn950': None,\n  '288': None,\n  '2b': None,\n  '2ds': None,\n  '2gb': None,\n  '2k': None,\n  '2nd': None,\n  '2tb': None,\n  '2x': None,\n  '2x16gb': None,\n  '2x2': None,\n  '2x8gb': None,\n  '2xxeon': None,\n  '3': None,\n  '30': None,\n  '3000g': None,\n  '3000mhz': None,\n  '3050': None,\n  '3060': None,\n  '3070': None,\n  '3070ti': None,\n  '3080': None,\n  '3080ti': None,\n  '3090': None,\n  '3090ftw': None,\n  '3090ti': None,\n  '30c': None,\n  '32': None,\n  '3200': None,\n  '3200g': None,\n  '3200mhz': None,\n  '32gb': None,\n  '35mm': None,\n  '360': None,\n  '3600': None,\n  '360mm': None,\n  '3646': None,\n  '3700x': None,\n  '38': None,\n  '3800mhz': None,\n  '3840x1600': None,\n  '38gl950g': None,\n  '3900x': None,\n  '3a': None,\n  '3ds': None,\n  '3rd': None,\n  '3x': None,\n  '4': None,\n  '40': None,\n  '4070': None,\n  '4080': None,\n  '4090': None,\n  '40mm': None,\n  '4266': None,\n  '43': None,\n  '440': None,\n  '4590': None,\n  '45mm': None,\n  '460': None,\n  '4670k': None,\n  '4670s': None,\n  '4690k': None,\n  '4750': None,\n  '4800': None,\n  '49': None,\n  '4gb': None,\n  '4k': None,\n  '4tb': None,\n  '4th': None,\n  '4x': None,\n  '4x8gb': None,\n  '5': None,\n  '500': None,\n  '500gb': None,\n  '512g': None,\n  '512gb': None,\n  '5490': None,\n  '55': None,\n  '5500': None,\n  '5500xt': None,\n  '550w': None,\n  '555': None,\n  '5600x': None,\n  '5700': None,\n  '5700g': None,\n  '5700x': None,\n  '580': None,\n  '5800h': None,\n  '5800hs': None,\n  '5800x': None,\n  '5800x3d': None,\n  '590': None,\n  '5900hs': None,\n  '5900x': None,\n  '5950x': None,\n  '5g': None,\n  '5k': None,\n  '5tb': None,\n  '5th': None,\n  '6': None,\n  '60': None,\n  '6000': None,\n  '6000mhz': None,\n  '6400': None,\n  '64gb': None,\n  '6600': None,\n  '6600k': None,\n  '6600xt': None,\n  '660p': None,\n  '6700': None,\n  '6700s': None,\n  '6700xt': None,\n  '670p': None,\n  '6800': None,\n  '6800h': None,\n  '6800xt': None,\n  '6870': None,\n  '6900': None,\n  '6900hs': None,\n  '6900hx': None,\n  '6900xt': None,\n  '6a': None,\n  '6dbi': None,\n  '6gb': None,\n  '6th': None,\n  '6x': None,\n  '7': None,\n  '730': None,\n  '750': None,\n  '77': None,\n  '7700k': None,\n  '7900': None,\n  '7900x': None,\n  '7900xt': None,\n  '7900xtx': None,\n  '7950x3d': None,\n  '8': None,\n  '83': None,\n  '8300': None,\n  '8350u': None,\n  '8400': None,\n  '850': None,\n  '850w': None,\n  '85mm': None,\n  '860': None,\n  '87': None,\n  '870': None,\n  '8700k': None,\n  '87w': None,\n  '8940': None,\n  '8950': None,\n  '8g': None,\n  '8gb': None,\n  '8i': None,\n  '8k': None,\n  '9': None,\n  '90mm': None,\n  '914': None,\n  '9211': None,\n  '9310': None,\n  '9361': None,\n  '9510': None,\n  '960': None,\n  '9600k': None,\n  '960gb': None,\n  '970': None,\n  '9700': None,\n  '980': None,\n  '980m': None,\n  '9900k': None,\n  '9980xe': None,\n  '9in': None,\n  '9th': None,\n  'a': None,\n  'a1': None,\n  'a1842': None,\n  'a4': None,\n  'a50': None,\n  'a770': None,\n  'aaxy': None,\n  'ab350': None,\n  'abp': None,\n  'absolute': None,\n  'ac': None,\n  'ac86u': None,\n  'accessories': None,\n  'acer': None,\n  'adapter': None,\n  'adata': None,\n  'advanced': None,\n  'aero': None,\n  'aio': None,\n  'air': None,\n  'ak620': None,\n  'alienware': None,\n  'all': None,\n  'aluminum': None,\n  'am4': None,\n  'amd': None,\n  'amp': None,\n  'anbernic': None,\n  'anc': None,\n  'and': None,\n  'anker': None,\n  'antennas': None,\n  'aokzoe': None,\n  'aorus': None,\n  'apex': None,\n  'apple': None,\n  'applecare': None,\n  'aps': None,\n  'apu': None,\n  'arc': None,\n  'arctic': None,\n  'arctis': None,\n  'ares': None,\n  'argb': None,\n  'arm': None,\n  'asr': None,\n  'asrock': None,\n  'astro': None,\n  'asus': None,\n  'at': None,\n  'ath': None,\n  'audio': None,\n  'aw3418dw': None,\n  'ax': None,\n  'aya': None,\n  'ayn': None,\n  'b': None,\n  'b360': None,\n  'b450': None,\n  'b450m': None,\n  'b550': None,\n  'b550i': None,\n  'b550m': None,\n  'b560': None,\n  'b650e': None,\n  'b660': None,\n  'backpack': None,\n  'band': None,\n  'bands': None,\n  'base': None,\n  'battery': None,\n  'beats': None,\n  'benq': None,\n  'bi': None,\n  'bionix': None,\n  'bits': None,\n  'bitspower': None,\n  'black': None,\n  'blade': None,\n  'blaster': None,\n  'block': None,\n  'blue': None,\n  'bnib': None,\n  'book2': None,\n  'boss': None,\n  'box': None,\n  'bq': None,\n  'br1100cka': None,\n  'brand': None,\n  'bucket': None,\n  'buds': None,\n  'build': None,\n  'built': None,\n  'bump': None,\n  'bundle': None,\n  'bundles': None,\n  'burst': None,\n  'c': None,\n  'c13': None,\n  'c14': None,\n  'c16': None,\n  'c7': None,\n  'cable': None,\n  'cables': None,\n  'camera': None,\n  'cameras': None,\n  'card': None,\n  'case': None,\n  'cases': None,\n  'cash': None,\n  'cb': None,\n  'cellular': None,\n  'cfw': None,\n  'chair': None,\n  'charger': None,\n  'chargers': None,\n  'charging': None,\n  'chromebook': None,\n  'cisco': None,\n  'cl': None,\n  'cl16': None,\n  'clock': None,\n  'clubsport': None,\n  'cockpit': None,\n  'collectible': None,\n  'collector': None,\n  'combo': None,\n  'commander': None,\n  'compaq': None,\n  'complete': None,\n  'components': None,\n  'computers': None,\n  'condition': None,\n  'controller': None,\n  'controllers': None,\n  'convert': None,\n  'cooled': None,\n  'cooler': None,\n  'coolermaster': None,\n  'coolers': None,\n  'cooling': None,\n  'coral': None,\n  'cords': None,\n  'core': None,\n  'cores': None,\n  'corsair': None,\n  'cosmetically': None,\n  'cougar': None,\n  'cpu': None,\n  'cpus': None,\n  'creative': None,\n  'creator': None,\n  'creme': None,\n  'crg9': None,\n  'crucial': None,\n  'cryorig': None,\n  'csl': None,\n  'curved': None,\n  'cushion': None,\n  'custom': None,\n  'cx': None,\n  'd15': None,\n  'd4': None,\n  'd5': None,\n  'dac': None,\n  'dark': None,\n  'darkrock': None,\n  'dd': None,\n  'ddr3': None,\n  'ddr4': None,\n  'ddr5': None,\n  'dead': None,\n  'deathadder': None,\n  'deathstalker': None,\n  'deck': None,\n  'deepcook': None,\n  'dell': None,\n  'design': None,\n  'desk': None,\n  'deskmini': None,\n  'desktop': None,\n  'devil': None,\n  'diablo': None,\n  'die': None,\n  'digital': None,\n  'direction': None,\n  'disc': None,\n  'display': None,\n  'distribution': None,\n  'dji': None,\n  'dock': None,\n  'docking': None,\n  'docks': None,\n  'dongle': None,\n  'drive': None,\n  'dual': None,\n  'e': None,\n  'e5': None,\n  'earbuds': None,\n  'earphones': None,\n  'eatx': None,\n  'ec': None,\n  'ecc': None,\n  'edition': None,\n  'ek': None,\n  'ekwb': None,\n  'elgato': None,\n  'elite': None,\n  'elites': None,\n  'encore': None,\n  'enermax': None,\n  'enterprise': None,\n  'entry': None,\n  'envy': None,\n  'epic': None,\n  'evangelion': None,\n  'evga': None,\n  'evo': None,\n  'extract': None,\n  'extras': None,\n  'extreme': None,\n  'f': None,\n  'f1': None,\n  'f4': None,\n  'face': None,\n  'factory': None,\n  'fallout': None,\n  'fanatec': None,\n  'fans': None,\n  'fast': None,\n  'fatboy': None,\n  'fe': None,\n  'fi': None,\n  'fiio': None,\n  'fit': None,\n  'flare': None,\n  'flip': None,\n  'flipper': None,\n  'folio': None,\n  'for': None,\n  'formula': None,\n  'founders': None,\n  'fractal': None,\n  'framework': None,\n  'free': None,\n  'freezer': None,\n  'from': None,\n  'frontier': None,\n  'frozr': None,\n  'ftw2': None,\n  'ftw3': None,\n  'fujifilm': None,\n  'full': None,\n  'fury': None,\n  'fv43u': None,\n  'g': None,\n  'g1': None,\n  'g14': None,\n  'g305': None,\n  'g5': None,\n  'g502x': None,\n  'g7': None,\n  'g903': None,\n  'ga': None,\n  'ga401qm': None,\n  'ga402rj': None,\n  'galaxy': None,\n  'games': None,\n  'gaming': None,\n  'gb': None,\n  'gba': None,\n  'gddr6': None,\n  'ge66': None,\n  'geforce': None,\n  'gen': None,\n  'gen4': None,\n  'generation': None,\n  'ghz': None,\n  'gigabyte': None,\n  'glacial': None,\n  'gmmk': None,\n  'gns': None,\n  'go': None,\n  'gold': None,\n  'google': None,\n  'gopro': None,\n  'goxlr': None,\n  'gps': None,\n  'gpu': None,\n  'gpus': None,\n  'gq': None,\n  'graphic': None,\n  'graphics': None,\n  'graphite': None,\n  'gray': None,\n  'green': None,\n  'grey': None,\n  'grip': None,\n  'gskill': None,\n  'gsync': None,\n  'gt': None,\n  'gtx': None,\n  'gu502gv': None,\n  'h2o': None,\n  'h310m': None,\n  'h7': None,\n  'h81i': None,\n  'hackable': None,\n  'hard': None,\n  'hardware': None,\n  'harman': None,\n  'haste': None,\n  'hdd': None,\n  'hdh': None,\n  'hdmi': None,\n  'hdr2000': None,\n  'headphones': None,\n  'headset': None,\n  'headsets': None,\n  'heatkiller': None,\n  'hermes': None,\n  'hero': None,\n  'hiearcool': None,\n  'hifi': None,\n  'hkts': None,\n  'holo': None,\n  'home': None,\n  'hookup': None,\n  'hp': None,\n  'htc': None,\n  'hubitat': None,\n  'huge': None,\n  'huntsman': None,\n  'hx850': None,\n  'hx850i': None,\n  'hybrid': None,\n  'hynix': None,\n  'hypervice': None,\n  'hypervolt': None,\n  'hyperx': None,\n  'i': None,\n  'i164': None,\n  'i3': None,\n  'i5': None,\n  'i7': None,\n  'i9': None,\n  'icegiant': None,\n  'ie': None,\n  'ii': None,\n  'iii': None,\n  'imac': None,\n  'in': None,\n  'inch': None,\n  'includes': None,\n  'indigo': None,\n  'inspiron': None,\n  'intel': None,\n  'invzi': None,\n  'ipad': None,\n  'iphone': None,\n  'ips': None,\n  'items': None,\n  'itx': None,\n  'iv': None,\n  'ivy': None,\n  'jlab': None,\n  'joycon': None,\n  'joycons': None,\n  'k3': None,\n  'k55': None,\n  'k7': None,\n  'k70': None,\n  'k8': None,\n  'kardon': None,\n  'kensington': None,\n  'key': None,\n  'keyboard': None,\n  'keyboards': None,\n  'keycaps': None,\n  'keychron': None,\n  'keys': None,\n  'kingston': None,\n  'kishi': None,\n  'kit': None,\n  'kraken': None,\n  'kwikset': None,\n  'l': None,\n  'laptop': None,\n  'laptops': None,\n  'latitude': None,\n  'layout': None,\n  'lct': None,\n  'le': None,\n  'legion': None,\n  'lenovo': None,\n  'level': None,\n  'lewitt': None,\n  'lg': None,\n  'lhr': None,\n  'li': None,\n  'lian': None,\n  'lighting': None,\n  'lightspeed': None,\n  'like': None,\n  'link': None,\n  'liquid': None,\n  'lite': None,\n  'live': None,\n  'local': None,\n  'locks': None,\n  'logi': None,\n  'logitech': None,\n  'loop': None,\n  'lot': None,\n  'low': None,\n  'lowered': None,\n  'lpx': None,\n  'lsi': None,\n  'lte': None,\n  'lux': None,\n  'm': None,\n  'm1': None,\n  'm2': None,\n  'm3': None,\n  'm30x': None,\n  'mac': None,\n  'macbook': None,\n  'macro': None,\n  'magic': None,\n  'magnitude': None,\n  'makes': None,\n  'many': None,\n  'master': None,\n  'masterair': None,\n  'masterliquid': None,\n  'matrix': None,\n  'matx': None,\n  'max': None,\n  'mb': None,\n  'mechanical': None,\n  'memory': None,\n  'meraki': None,\n  'meshify': None,\n  'meshlicious': None,\n  'meta': None,\n  'metaquest': None,\n  'mhz': None,\n  'mice': None,\n  'micro': None,\n  'microatx': None,\n  'microphone': None,\n  'microsoft': None,\n  'midnight': None,\n  'mini': None,\n  'mint': None,\n  'misc': None,\n  'ml120': None,\n  'ml120l': None,\n  'mm731': None,\n  'mobo': None,\n  'modded': None,\n  'model': None,\n  'modmypi': None,\n  'modular': None,\n  'monito': None,\n  'monitor': None,\n  'monitors': None,\n  'more': None,\n  'motherboard': None,\n  'mounts': None,\n  'mouse': None,\n  'mouses': None,\n  'mpg': None,\n  'msi': None,\n  'mx': None,\n  'my': None,\n  'nano': None,\n  'navy': None,\n  'neo': None,\n  'nespi': None,\n  'nest': None,\n  'network': None,\n  'new': None,\n  'next': None,\n  'nh': None,\n  'nic': None,\n  'nintendo': None,\n  'nips': None,\n  'nitro': None,\n  'nixie': None,\n  'nm': None,\n  'noctua': None,\n  'node': None,\n  'non': None,\n  'not': None,\n  'nova': None,\n  'nrg': None,\n  'nuke': None,\n  'nvidia': None,\n  'nvme': None,\n  'nzxt': None,\n  'o11d': None,\n  'oc': None,\n  'oculus': None,\n  'odin': None,\n  'odyssey': None,\n  'oem': None,\n  'of': None,\n  'office': None,\n  'old': None,\n  'oled': None,\n  'one': None,\n  'onexplayer': None,\n  'only': None,\n  'open': None,\n  'optical': None,\n  'optimus': None,\n  'or': None,\n  'orei': None,\n  'original': None,\n  'orochi': None,\n  'osmo': None,\n  'out': None,\n  'own': None,\n  'p120': None,\n  'p31': None,\n  'p620': None,\n  'pack': None,\n  'package': None,\n  'panda': None,\n  'part': None,\n  'parts': None,\n  'patriot': None,\n  'payoneer': None,\n  'paypa': None,\n  'paypal': None,\n  'pc': None,\n  'pc4': None,\n  'pcie': None,\n  'pedals': None,\n  'pegasus': None,\n  'pencil': None,\n  'peripherals': None,\n  'phantom': None,\n  'phoenix': None,\n  'pi': None,\n  'pikachu': None,\n  'pin': None,\n  'pink': None,\n  'pixel': None,\n  'plate': None,\n  'platinum': None,\n  'plus': None,\n  'pny': None,\n  'pocket': None,\n  'portable': None,\n  'potentially': None,\n  'power': None,\n  'powera': None,\n  'powercolor': None,\n  'powercore': None,\n  'powerplay': None,\n  'praetorian': None,\n  'premium': None,\n  'prices': None,\n  'prime': None,\n  'printer': None,\n  'prism': None,\n  'pro': None,\n  'pro4': None,\n  'professional': None,\n  'profile': None,\n  'prosiphon': None,\n  'protective': None,\n  'protector': None,\n  'ps': None,\n  'ps3': None,\n  'ps5': None,\n  'psu': None,\n  'psus': None,\n  'psvr': None,\n  'pull': None,\n  'pulsefire': None,\n  'pure': None,\n  'purple': None,\n  'qhd': None,\n  'ql120': None,\n  'quadro': None,\n  'quantity': None,\n  'quantum': None,\n  'quest': None,\n  'qvo': None,\n  'r420': None,\n  'r7': None,\n  'racing': None,\n  'radeon': None,\n  'radiators': None,\n  'raider': None,\n  'ram': None,\n  'rampage': None,\n  'rams': None,\n  'raspberry': None,\n  'razer': None,\n  'real': None,\n  'reaper': None,\n  'receiver': None,\n  'red': None,\n  'reference': None,\n  'remote': None,\n  'retroid': None,\n  'revolve': None,\n  'rg351p': None,\n  'rg353m': None,\n  'rgb': None,\n  'rig': None,\n  'ripjaw': None,\n  'ripjaws': None,\n  'rm1000x': None,\n  'rm850': None,\n  'rm850e': None,\n  'rm850x': None,\n  'rma': None,\n  'rocket': None,\n  'rocksmith': None,\n  'rog': None,\n  'rollo': None,\n  'router': None,\n  'royal': None,\n  'rpi': None,\n  'rt': None,\n  'rtx': None,\n  'rtx3050ti': None,\n  'rtx3070': None,\n  'rx': None,\n  'rx480': None,\n  'rx5600x': None,\n  'rx590': None,\n  'ryzen': None,\n  's': None,\n  's10': None,\n  's22': None,\n  's23': None,\n  's2716dg': None,\n  's3': None,\n  's6': None,\n  's7': None,\n  's8': None,\n  's9': None,\n  'sabrent': None,\n  'sale': None,\n  'sample': None,\n  'samsung': None,\n  'sapphire': None,\n  'sata': None,\n  'sceptre': None,\n  'scotty': None,\n  'screen': None,\n  'sd': None,\n  'sdd': None,\n  'sdram': None,\n  'seagate': None,\n  'sealed': None,\n  'seats': None,\n  'sel90m28g': None,\n  'semi': None,\n  'sennheiser': None,\n  'serial': None,\n  'series': None,\n  'set': None,\n  'setup': None,\n  'sf750': None,\n  'sff': None,\n  'sfx': None,\n  'shield': None,\n  'sierra': None,\n  'silver': None,\n  'sim': None,\n  'simulator': None,\n  'size': None,\n  'skill': None,\n  'sl120': None,\n  'sleeved': None,\n  'slim': None,\n  'sm': None,\n  'small': None,\n  'smart': None,\n  'smartwatch': None,\n  'sn520': None,\n  'sn720': None,\n  'sn770': None,\n  'sn850': None,\n  'sodimm': None,\n  'sofabaton': None,\n  'sony': None,\n  'souls': None,\n  'sound': None,\n  'soundlink': None,\n  'space': None,\n  'spare': None,\n  'spectre': None,\n  'speedster': None,\n  'sport': None,\n  'spyderx': None,\n  'ssc': None,\n  'ssd': None,\n  'ssds': None,\n  'st5000dm000': None,\n  'stainless': None,\n  'stand': None,\n  'starlight': None,\n  'station': None,\n  'steam': None,\n  'steelcase': None,\n  'steelseries': None,\n  'stereo': None,\n  'still': None,\n  'stock': None,\n  'strap': None,\n  'stream': None,\n  'strix': None,\n  'stuff': None,\n  'super': None,\n  'superlight': None,\n  ...}}"
     },
     "execution_count": 45,
     "metadata": {},
     "output_type": "execute_result"
    }
   ],
   "source": [
    "calculate_all_probabilities(token_list)['0']"
   ],
   "metadata": {
    "collapsed": false
   }
  },
  {
   "cell_type": "code",
   "execution_count": 22,
   "outputs": [
    {
     "ename": "TypeError",
     "evalue": "'int' object is not iterable",
     "output_type": "error",
     "traceback": [
      "\u001B[1;31m---------------------------------------------------------------------------\u001B[0m",
      "\u001B[1;31mTypeError\u001B[0m                                 Traceback (most recent call last)",
      "Cell \u001B[1;32mIn[22], line 2\u001B[0m\n\u001B[0;32m      1\u001B[0m test \u001B[38;5;241m=\u001B[39m Counter(get_all_words(token_list))\n\u001B[1;32m----> 2\u001B[0m \u001B[43mtest\u001B[49m\u001B[38;5;241;43m.\u001B[39;49m\u001B[43mupdate\u001B[49m\u001B[43m(\u001B[49m\u001B[38;5;241;43m0\u001B[39;49m\u001B[43m)\u001B[49m\n",
      "File \u001B[1;32m~\\anaconda3\\envs\\HardwareScrape\\Lib\\collections\\__init__.py:688\u001B[0m, in \u001B[0;36mCounter.update\u001B[1;34m(self, iterable, **kwds)\u001B[0m\n\u001B[0;32m    686\u001B[0m             \u001B[38;5;28msuper\u001B[39m()\u001B[38;5;241m.\u001B[39mupdate(iterable)\n\u001B[0;32m    687\u001B[0m     \u001B[38;5;28;01melse\u001B[39;00m:\n\u001B[1;32m--> 688\u001B[0m         \u001B[43m_count_elements\u001B[49m\u001B[43m(\u001B[49m\u001B[38;5;28;43mself\u001B[39;49m\u001B[43m,\u001B[49m\u001B[43m \u001B[49m\u001B[43miterable\u001B[49m\u001B[43m)\u001B[49m\n\u001B[0;32m    689\u001B[0m \u001B[38;5;28;01mif\u001B[39;00m kwds:\n\u001B[0;32m    690\u001B[0m     \u001B[38;5;28mself\u001B[39m\u001B[38;5;241m.\u001B[39mupdate(kwds)\n",
      "\u001B[1;31mTypeError\u001B[0m: 'int' object is not iterable"
     ]
    }
   ],
   "source": [
    "test = Counter(get_all_words(token_list))\n",
    "test.update(0)"
   ],
   "metadata": {
    "collapsed": false
   }
  },
  {
   "cell_type": "code",
   "execution_count": 6,
   "outputs": [
    {
     "data": {
      "text/plain": "defaultdict(int,\n            {'12700k': 4,\n             '10870h': 1,\n             '11800h': 1,\n             '16gb': 1,\n             '12th': 2,\n             '8700k': 3,\n             '9700': 1,\n             '10700k': 1,\n             '13700k': 1,\n             '7700k': 1})"
     },
     "execution_count": 6,
     "metadata": {},
     "output_type": "execute_result"
    }
   ],
   "source": [
    "next_word_occurrence('i7', 1, token_list)"
   ],
   "metadata": {
    "collapsed": false
   }
  },
  {
   "cell_type": "code",
   "execution_count": 7,
   "outputs": [],
   "source": [
    "class Sentence:\n",
    "    def __init__(self):\n",
    "\n",
    "\n",
    "class Word:\n",
    "    def __init__(self, word: str):\n",
    "        self.word = word\n",
    "        self.p_of_next_word = [next_word_occurrence(word, x, token_list) for x in range(1,6)]\n"
   ],
   "metadata": {
    "collapsed": false
   }
  },
  {
   "cell_type": "code",
   "execution_count": 8,
   "outputs": [],
   "source": [
    "test = Word('i5')"
   ],
   "metadata": {
    "collapsed": false
   }
  },
  {
   "cell_type": "code",
   "execution_count": 9,
   "outputs": [
    {
     "data": {
      "text/plain": "defaultdict(int,\n            {'16gb': 2,\n             'evga': 1,\n             'z87m': 1,\n             'new': 1,\n             'gen': 1,\n             'docking': 1,\n             '1x': 2,\n             '1070ti': 1,\n             'mobo': 1,\n             'office': 1,\n             '15': 1,\n             'i5': 1,\n             'asus': 1})"
     },
     "execution_count": 9,
     "metadata": {},
     "output_type": "execute_result"
    }
   ],
   "source": [
    "test.p_of_next_word[1]"
   ],
   "metadata": {
    "collapsed": false
   }
  },
  {
   "cell_type": "markdown",
   "source": [
    "p_of_next_word['word']['looking_for_word'][INDEX HERE OF LOOKAHEAD]\n",
    "return object like {occurrences: 1, probability: 0.5}\n",
    "\n",
    "word1\n",
    "    looking_for1\n",
    "        0: {occurenecs:1, probability: 0.5}\n",
    "        1:  {occurenecs:1, probability: 0.5}\n",
    "        2:  {occurenecs:0, probability: 5}\n",
    "    looking_for2"
   ],
   "metadata": {
    "collapsed": false
   }
  },
  {
   "cell_type": "code",
   "execution_count": null,
   "outputs": [],
   "source": [],
   "metadata": {
    "collapsed": false
   }
  }
 ],
 "metadata": {
  "kernelspec": {
   "display_name": "Python 3",
   "language": "python",
   "name": "python3"
  },
  "language_info": {
   "codemirror_mode": {
    "name": "ipython",
    "version": 2
   },
   "file_extension": ".py",
   "mimetype": "text/x-python",
   "name": "python",
   "nbconvert_exporter": "python",
   "pygments_lexer": "ipython2",
   "version": "2.7.6"
  }
 },
 "nbformat": 4,
 "nbformat_minor": 0
}
