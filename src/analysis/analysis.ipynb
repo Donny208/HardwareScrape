{
 "cells": [
  {
   "cell_type": "code",
   "execution_count": 16,
   "outputs": [],
   "source": [
    "import numpy as np\n",
    "import nltk\n",
    "from collections import defaultdict\n",
    "from src.classes.database.offer import MongoOffer\n",
    "from tqdm import tqdm\n",
    "from enum import Enum\n",
    "\n",
    "tokenizer = nltk.RegexpTokenizer(r'\\w+')"
   ],
   "metadata": {
    "collapsed": false,
    "pycharm": {
     "name": "#%%\n"
    }
   }
  },
  {
   "cell_type": "code",
   "execution_count": 17,
   "outputs": [],
   "source": [
    "token_list = [tokenizer.tokenize(x.selling) for x in MongoOffer.objects()]\n",
    "direction = Enum('direction', ['FORWARD', 'BACKWARD', 'SELF'])"
   ],
   "metadata": {
    "collapsed": false,
    "pycharm": {
     "name": "#%%\n"
    }
   }
  },
  {
   "cell_type": "code",
   "execution_count": 18,
   "outputs": [],
   "source": [
    "def get_all_words(token_list: list[list]) -> list:\n",
    "    words = []\n",
    "    for sentence in token_list:\n",
    "        for word in sentence:\n",
    "            words.append(word)\n",
    "    return sorted(set(words))\n",
    "\n",
    "def next_word_occurrence(key: str, look_ahead: int, tokens: list[list]) -> dict:\n",
    "    counter = defaultdict(int)\n",
    "    for sentence in tokens:\n",
    "        for x in range(0, len(sentence)):\n",
    "            if key == sentence[x]: #if we find the key in a sentence\n",
    "                if (x+look_ahead) < len(sentence):\n",
    "                    counter[sentence[x+look_ahead]] += 1\n",
    "    return counter\n",
    "\n",
    "def p_next_word(given: str, looking: str, look_ahead: int, tokens: list[list]) -> float:\n",
    "    nwo: dict = next_word_occurrence(given, look_ahead, tokens)\n",
    "    return nwo[looking] / sum(nwo.values()) if nwo[looking] != 0 else 0\n",
    "\n",
    "# Old method, slow and not used anymore\n",
    "def calculate_all_probabilities(tokens: list[list], look_ahead) -> dict:\n",
    "    all_words = get_all_words(tokens)\n",
    "\n",
    "    #Generating a list of all words\n",
    "    word_canvas = defaultdict()\n",
    "    for word in all_words:\n",
    "        word_canvas[word] = None\n",
    "\n",
    "    p_word = word_canvas.copy()\n",
    "    for word in tqdm(p_word):\n",
    "        p_word[word] = [defaultdict(float) for x in range(0,look_ahead)]\n",
    "        for x in range(0,look_ahead):\n",
    "            for sub_word in all_words:\n",
    "                p = p_next_word(word, sub_word, x+1, tokens)\n",
    "                if p > 0:\n",
    "                    p_word[word][x][sub_word] = p_next_word(word, sub_word, x+1, tokens)\n",
    "                #print(f\"{word} | {str(x)} | {sub_word}: {p_word[word][x][sub_word]}\")\n",
    "    return p_word\n",
    "#data = calculate_all_probabilities(token_list, 1)"
   ],
   "metadata": {
    "collapsed": false,
    "pycharm": {
     "name": "#%%\n"
    }
   }
  },
  {
   "cell_type": "markdown",
   "source": [
    "## HMaxtrix\n",
    "Used for storing all word occurrences in a 3 dimensional matrix\n",
    "\n",
    "### Data we can get from matrix\n",
    " 1. p(start, find) = probability that 'find' is a n-order forward word for 'start' | single cell value / sum of 'start' row\n",
    " 2. p(start, find) = probability that 'find' is a n-order backward word for 'start' | single cell value / sum of 'start' column\n",
    " 3. p(row_word) = probability that 'row word' will be a n-order forward word | sum of row / entire table sum\n",
    " 4. p(col_word) = probability that 'col word' will be a n-order backward word | sum of column / entire table sum\n",
    " 5. p(word, order) = probability that 'word' will be n-order word compared to the other orders| single cell value at order / all order values of that word tallied (through the table)\n",
    " 6.  p(word-row, order) = probability that 'word' will be n-order forward word | all of word-row order sum / all order values of that word-row\n",
    " 7. p(col-row, order) = probability that 'word' will be n-order backward word | all of word-col order sum / all order values of that word-col"
   ],
   "metadata": {
    "collapsed": false,
    "pycharm": {
     "name": "#%% md\n"
    }
   }
  },
  {
   "cell_type": "code",
   "execution_count": 19,
   "outputs": [],
   "source": [
    "class HMatrix:\n",
    "    def __init__(self) -> None:\n",
    "        self.labels = None\n",
    "        self.reverse_labels = None\n",
    "        self.order = 0\n",
    "        self.matrix = None\n",
    "\n",
    "    def p_row_word(self, order: int, row_word: str, word: str) -> float:\n",
    "        if row_word not in self.reverse_labels or word not in self.reverse_labels:\n",
    "            return 0\n",
    "        row_label = self.reverse_labels[row_word]\n",
    "        word_label = self.reverse_labels[word]\n",
    "\n",
    "        dividend = self.matrix[order, row_label, :][word_label]\n",
    "        divisor = sum(self.matrix[order, row_label, :])\n",
    "\n",
    "        return dividend/divisor if divisor > 0 else 0\n",
    "\n",
    "    def p_col_word(self, order: int, col_word: str, word: str) -> float:\n",
    "        if col_word not in self.reverse_labels or word not in self.reverse_labels:\n",
    "            return 0\n",
    "        col_label = self.reverse_labels[col_word]\n",
    "        word_label = self.reverse_labels[word]\n",
    "\n",
    "        dividend = self.matrix[order, :, col_label][word_label]\n",
    "        divisor = sum(self.matrix[order, :, col_label])\n",
    "\n",
    "        return dividend/divisor if divisor > 0 else 0\n",
    "\n",
    "\n",
    "    def create_matrix(self, tokens: list[list], order: int):\n",
    "        #Setup\n",
    "        self.labels = get_all_words(token_list)\n",
    "        self.reverse_labels = {self.labels[x]: x for x in range(0, len(self.labels))}\n",
    "        self.order = order\n",
    "        self.matrix = np.zeros((order, len(self.labels), len(self.labels)))\n",
    "\n",
    "        #Iteration\n",
    "        for sentence in tqdm(tokens):\n",
    "            for x in range(0, len(sentence)):\n",
    "                word = sentence[x]\n",
    "                print(f\"Word: {word} ({str(self.reverse_labels[word])})\")\n",
    "                for y in range(0, self.order):\n",
    "                    if x+y+1 < len(sentence):\n",
    "                        print(f\"Lookahead {str(y+1)}: {sentence[x+y+1]} ({str(self.reverse_labels[sentence[x+y+1]])})\")\n",
    "                        self.matrix[y][self.reverse_labels[word]][self.reverse_labels[sentence[x+y+1]]] += 1"
   ],
   "metadata": {
    "collapsed": false,
    "pycharm": {
     "name": "#%%\n"
    }
   }
  },
  {
   "cell_type": "code",
   "execution_count": null,
   "outputs": [
    {
     "name": "stderr",
     "output_type": "stream",
     "text": [
      "100%|██████████| 4517/4517 [00:00<00:00, 29225.29it/s]"
     ]
    }
   ],
   "source": [
    "matrix = HMatrix()\n",
    "matrix.create_matrix(token_list, 2) #todo, juypter seems to break when order > 3"
   ],
   "metadata": {
    "collapsed": false,
    "pycharm": {
     "name": "#%%\n",
     "is_executing": true
    }
   }
  },
  {
   "cell_type": "markdown",
   "source": [
    "## Sentence Class\n",
    "\n",
    "Input a sentence, it will then use the HMatrix to see which path results the most likely outcome for products"
   ],
   "metadata": {
    "collapsed": false,
    "pycharm": {
     "name": "#%% md\n"
    }
   }
  },
  {
   "cell_type": "code",
   "execution_count": 228,
   "outputs": [],
   "source": [
    "class Sentence:\n",
    "    def __init__(self, matrix: HMatrix, tokenizer, raw_sentence: str, verbose=False):\n",
    "        self.verbose = verbose\n",
    "        self.raw_sentence = tokenizer.tokenize(raw_sentence.lower())\n",
    "        self.sentence = []\n",
    "\n",
    "        # Creating all the blank word classes\n",
    "        for x, word in enumerate(self.raw_sentence):\n",
    "            self.sentence.append(Word(word, x))\n",
    "\n",
    "        # Creating all the forward connections\n",
    "        for x, word in enumerate(self.raw_sentence):\n",
    "            if verbose:\n",
    "                print(f\"--- {word} ---\")\n",
    "            for neighbor in self.sentence:\n",
    "                mapped_pos = self.map_word_pos_to_order(neighbor.position-x)\n",
    "\n",
    "                if mapped_pos[1] is not direction.SELF and mapped_pos[0] < matrix.order: #Looking at itself and order is within scope\n",
    "                    p_value = 0\n",
    "\n",
    "                    if mapped_pos[1] is direction.FORWARD and self.verbose:\n",
    "                        p_value = matrix.p_row_word(mapped_pos[0], word, neighbor.key)\n",
    "                    else:\n",
    "                        p_value = matrix.p_col_word(mapped_pos[0], word, neighbor.key)\n",
    "\n",
    "                    self.sentence[x].neighbors.append(\n",
    "                            {'word': neighbor.key,\n",
    "                             'ref': neighbor,\n",
    "                             'p': p_value,\n",
    "                             'direction': mapped_pos[1].name\n",
    "                            })\n",
    "\n",
    "                    if verbose:\n",
    "                        print(f\"{'  '*mapped_pos[0]}\"\n",
    "                              f\"{word} \"\n",
    "                              f\"-{str(mapped_pos[0])}-> \"\n",
    "                              f\"{neighbor.key} \"\n",
    "                              f\"({str(p_value)})\")\n",
    "\n",
    "\n",
    "\n",
    "    def map_word_pos_to_order(self, position) -> tuple:\n",
    "        #Forward word positions\n",
    "        if position > 0:\n",
    "            return position-1, direction.FORWARD\n",
    "\n",
    "        # Backwards word positions\n",
    "        if position < 0:\n",
    "            return abs(position)-1, direction.BACKWARD\n",
    "\n",
    "        #Pos looking at self\n",
    "        if position == 0:\n",
    "            return -1, direction.SELF\n",
    "\n",
    "\n",
    "\n",
    "class Word:\n",
    "    def __init__(self, key: str, position: int):\n",
    "        self.key = key\n",
    "        self.position = position\n",
    "        self.neighbors = []\n",
    "\n",
    "    # This method will find this word's neighbor by taking the words position + an input position, returns None if out of bounds.\n",
    "    def get_neighbor(self, pos):\n",
    "\n",
    "        # print(pos+self.position-1)\n",
    "        # print(len(self.neighbors)-1)\n",
    "        # print(pos+self.position-1 > len(self.neighbors)-1)\n",
    "        # Bound Checking\n",
    "        if pos == 0:\n",
    "            return None\n",
    "\n",
    "        if pos+self.position-1 > len(self.neighbors)-1 or pos+self.position < 0:\n",
    "            return None\n",
    "\n",
    "        print(f\"{self.key}: {str(pos+self.position-1) if pos > 0 else str(pos+self.position)}\")\n",
    "        return self.neighbors[pos+self.position-1] if pos > 0 else self.neighbors[pos+self.position]\n",
    "\n",
    "    def __str__(self):\n",
    "        return f\"Word: {self.key} | Position: {str(self.position)}\""
   ],
   "metadata": {
    "collapsed": false,
    "pycharm": {
     "name": "#%%\n"
    }
   }
  },
  {
   "cell_type": "code",
   "execution_count": 248,
   "outputs": [
    {
     "data": {
      "text/plain": "['lenovo',\n 'thinkstation',\n 'thinkcentre',\n 'thinkpads',\n 'ps3',\n 'ps',\n 'vita',\n 'ryzen',\n '7',\n '1700',\n '16gb',\n 'ddr5',\n '4800',\n 'sodimm',\n '64gb',\n 'ddr4',\n '3600',\n '512gb',\n 'nvme',\n 'gen4']"
     },
     "execution_count": 248,
     "metadata": {},
     "output_type": "execute_result"
    }
   ],
   "source": [
    "token_list[10]"
   ],
   "metadata": {
    "collapsed": false,
    "pycharm": {
     "name": "#%%\n"
    }
   }
  },
  {
   "cell_type": "code",
   "execution_count": 249,
   "outputs": [
    {
     "name": "stdout",
     "output_type": "stream",
     "text": [
      "--- logitech ---\n",
      "logitech -0-> g (0.18571428571428572)\n",
      "  logitech -1-> pro (0.2)\n",
      "--- g ---\n",
      "g -0-> logitech (0.13402061855670103)\n",
      "g -0-> pro (0.11206896551724138)\n",
      "  g -1-> x (0.0851063829787234)\n",
      "--- pro ---\n",
      "  pro -1-> logitech (0.02981651376146789)\n",
      "pro -0-> g (0.025096525096525095)\n",
      "pro -0-> x (0.022448979591836733)\n",
      "  pro -1-> superlight (0.009029345372460496)\n",
      "--- x ---\n",
      "  x -1-> g (0.06349206349206349)\n",
      "x -0-> pro (0.07801418439716312)\n",
      "x -0-> superlight (0.031746031746031744)\n",
      "  x -1-> intel (0.0)\n",
      "--- superlight ---\n",
      "  superlight -1-> pro (0.5)\n",
      "superlight -0-> x (0.5)\n",
      "superlight -0-> intel (0.0)\n",
      "  superlight -1-> i7 (0.0)\n",
      "--- intel ---\n",
      "  intel -1-> x (0.0)\n",
      "intel -0-> superlight (0.0)\n",
      "intel -0-> i7 (0.1310344827586207)\n",
      "  intel -1-> 8700k (0.014814814814814815)\n",
      "--- i7 ---\n",
      "  i7 -1-> superlight (0.0)\n",
      "i7 -0-> intel (0.12418300653594772)\n",
      "i7 -0-> 8700k (0.03508771929824561)\n",
      "--- 8700k ---\n",
      "  8700k -1-> intel (0.2)\n",
      "8700k -0-> i7 (0.5454545454545454)\n"
     ]
    }
   ],
   "source": [
    "test = Sentence(matrix, tokenizer, \"logitech g pro x superlight intel i7 8700k\", verbose=True) #logitech g pro x superlight intel i7 8700k"
   ],
   "metadata": {
    "collapsed": false,
    "pycharm": {
     "name": "#%%\n"
    }
   }
  },
  {
   "cell_type": "code",
   "execution_count": 250,
   "outputs": [
    {
     "name": "stdout",
     "output_type": "stream",
     "text": [
      "logitech: 0\n",
      "g: 1\n",
      "pro: 2\n",
      "x: 3\n"
     ]
    }
   ],
   "source": [
    "for x in range(0,5):\n",
    "    test.sentence[x].get_neighbor(1)"
   ],
   "metadata": {
    "collapsed": false,
    "pycharm": {
     "name": "#%%\n"
    }
   }
  },
  {
   "cell_type": "code",
   "execution_count": 261,
   "outputs": [
    {
     "data": {
      "text/plain": "('8700k',\n 7,\n [{'word': 'intel',\n   'ref': <__main__.Word at 0x1525fa290>,\n   'p': 0.2,\n   'direction': 'BACKWARD'},\n  {'word': 'i7',\n   'ref': <__main__.Word at 0x1525f9510>,\n   'p': 0.5454545454545454,\n   'direction': 'BACKWARD'}])"
     },
     "execution_count": 261,
     "metadata": {},
     "output_type": "execute_result"
    }
   ],
   "source": [
    "i = 7\n",
    "test.sentence[i].key,test.sentence[i].position, test.sentence[i].neighbors"
   ],
   "metadata": {
    "collapsed": false,
    "pycharm": {
     "name": "#%%\n"
    }
   }
  },
  {
   "cell_type": "markdown",
   "source": [
    "Next neighbor pos (order 2 matrix):\n",
    "logitech 0 len(neighbors) - order\n",
    "g 1 0 len(neighbors) - order\n",
    "pro 2 order\n",
    "x 2 order\n",
    "superlight 2\n",
    "intel 2\n",
    "i7 2\n",
    "8700k None\n",
    "\n",
    "if pos >= order:\n",
    "    if end:\n",
    "        stuff\n",
    "    else:\n",
    "        return order\n",
    "else:\n",
    "    return len(neighbors) - order\n",
    "\n",
    "\n",
    "position-len(neighbors) <= 6\n",
    "\n",
    "len(neighbors) != 3*2: at a border\n",
    "\n",
    "\n",
    "\n",
    "len(neighbors) - 3 + input-1\n",
    "\n",
    "+2 neighbor pos (order 2 matrix):\n",
    "amd 1\n",
    "6800 2\n",
    "rog 3\n",
    "strix 4\n",
    "gpu 4\n",
    "tuf 4\n",
    "gaming 4\n",
    "x570 4\n",
    "plus 4\n",
    "mobo 4\n",
    "amd 4\n",
    "3200g none\n",
    "cpu none\n",
    "\n",
    "len(neighbors) - 3 + input-1\n",
    "\n",
    "-1 neighbor pos (order 3 matrix):\n",
    "amd None\n",
    "6800 0\n",
    "rog 1\n",
    "strix 2\n",
    "gpu 2\n",
    "tuf 2\n",
    "gaming 2\n",
    "x570 2\n",
    "plus 2\n",
    "mobo 2\n",
    "amd 2\n",
    "3200g 2\n",
    "cpu 2\n",
    "\n",
    "-2 neighbor pos (order 3 matrix):\n",
    "amd None\n",
    "6800 None\n",
    "rog 0\n",
    "strix 1\n",
    "gpu 1\n",
    "tuf 1\n",
    "gaming 1\n",
    "x570 1\n",
    "plus 1\n",
    "mobo 1\n",
    "amd 1\n",
    "3200g 1\n",
    "cpu 1"
   ],
   "metadata": {
    "collapsed": false,
    "pycharm": {
     "name": "#%% md\n"
    }
   }
  },
  {
   "cell_type": "code",
   "execution_count": 91,
   "outputs": [],
   "source": [
    "def seperate_products(start_word: Word):\n",
    "    products = []\n",
    "\n",
    "\n",
    "\n",
    "# A method to look ahead only 1 word until the next word probability is 0\n",
    "def traverse_to_first_order_end(word: Word):\n",
    "    if word.get_neighbor(1) is None:\n",
    "        return word\n",
    "\n",
    "    print(f\"Start: {word.key}\")\n",
    "    neighbor = word.get_neighbor(1)\n",
    "\n",
    "    while neighbor['ref'].get_neighbor(1) is not None and neighbor['ref'].get_neighbor(1)['p'] > 0:\n",
    "        print(f\"Visited: {neighbor['word']}({str(neighbor['p'])})\")\n",
    "\n",
    "        # Go to next neighbor\n",
    "        neighbor = neighbor['ref'].get_neighbor(1)\n",
    "\n",
    "    if neighbor['ref'].get_neighbor(1) is None:\n",
    "        print(f\"EoS: {neighbor['word']}\") # if at end of sentence\n",
    "    else:\n",
    "        print(f\"EoP: {neighbor['word']}\")# if at end of product\n",
    "\n",
    "# Take in a sentence, determine if a word should point right or left, then\n",
    "def vector_assign(sentence: list[Word]):\n",
    "    v = Vector()\n",
    "    for x, word in enumerate(sentence):\n",
    "        print()\n",
    "        if x == 0: #First word always points right\n",
    "            v.add(word.key, \"r\")\n",
    "            print(f\"{word.key} -> {sentence[x].get_neighbor(1)['word']}\")\n",
    "        elif x == len(sentence)-1: #end of sentence\n",
    "            v.add(word.key, \"l\")\n",
    "            print(f\"{sentence[x].get_neighbor(-1)['word']} <- {word.key}\")\n",
    "        else:\n",
    "            if sentence[x].get_neighbor(1)['p'] >= sentence[x].get_neighbor(-1)['p']:\n",
    "                v.add(word.key, \"r\")\n",
    "                print(f\"{word.key} -> {sentence[x].get_neighbor(1)['word']}\")\n",
    "            else:\n",
    "                v.add(word.key, \"l\")\n",
    "                print(f\"{sentence[x].get_neighbor(-1)['word']} <- {word.key}\")\n",
    "    return v\n"
   ],
   "metadata": {
    "collapsed": false,
    "pycharm": {
     "name": "#%%\n"
    }
   }
  },
  {
   "cell_type": "code",
   "execution_count": 92,
   "outputs": [],
   "source": [
    "class Vector:\n",
    "    def __init__(self):\n",
    "        self.items = []\n",
    "\n",
    "    def add(self, item, vector):\n",
    "        if len(self.items) == 0:\n",
    "            self.items.append({'items': [item], 'current_vector': vector})\n",
    "        else:\n",
    "            if self.items[-1]['current_vector'] == \"r\": #if current vector is right we dont care about the direction\n",
    "                self.items[-1]['items'].append(item)\n",
    "                self.items[-1]['current_vector'] = vector\n",
    "            elif self.items[-1]['current_vector'] == \"l\":\n",
    "                if vector == 'r': # new item\n",
    "                    self.items.append({'items': [item], 'current_vector': vector})\n",
    "                elif vector == 'l': # old item\n",
    "                    self.items[-1]['items'].append(item)\n",
    "                    self.items[-1]['current_vector'] = vector"
   ],
   "metadata": {
    "collapsed": false,
    "pycharm": {
     "name": "#%%\n"
    }
   }
  },
  {
   "cell_type": "code",
   "execution_count": 93,
   "outputs": [
    {
     "name": "stdout",
     "output_type": "stream",
     "text": [
      "\n",
      "1\n",
      "amd -> 6800\n",
      "\n",
      "1\n",
      "1\n",
      "1\n",
      "amd <- 6800\n",
      "\n",
      "1\n",
      "1\n",
      "1\n",
      "6800 <- rog\n",
      "\n",
      "1\n",
      "1\n",
      "1\n",
      "rog <- strix\n",
      "\n",
      "1\n",
      "1\n",
      "1\n",
      "strix <- gpu\n",
      "\n",
      "1\n",
      "1\n",
      "1\n",
      "gpu <- tuf\n",
      "\n",
      "1\n",
      "1\n",
      "1\n",
      "tuf <- gaming\n",
      "\n",
      "1\n",
      "1\n",
      "1\n",
      "gaming <- x570\n",
      "\n",
      "1\n",
      "1\n",
      "1\n",
      "x570 <- plus\n",
      "\n",
      "1\n",
      "1\n",
      "1\n",
      "mobo -> 3200g\n",
      "\n"
     ]
    },
    {
     "ename": "TypeError",
     "evalue": "'NoneType' object is not subscriptable",
     "output_type": "error",
     "traceback": [
      "\u001B[0;31m---------------------------------------------------------------------------\u001B[0m",
      "\u001B[0;31mTypeError\u001B[0m                                 Traceback (most recent call last)",
      "Cell \u001B[0;32mIn[93], line 1\u001B[0m\n\u001B[0;32m----> 1\u001B[0m \u001B[43mvector_assign\u001B[49m\u001B[43m(\u001B[49m\u001B[43mtest\u001B[49m\u001B[38;5;241;43m.\u001B[39;49m\u001B[43msentence\u001B[49m\u001B[43m)\u001B[49m\u001B[38;5;241m.\u001B[39mitems\n",
      "Cell \u001B[0;32mIn[91], line 37\u001B[0m, in \u001B[0;36mvector_assign\u001B[0;34m(sentence)\u001B[0m\n\u001B[1;32m     35\u001B[0m     \u001B[38;5;28mprint\u001B[39m(\u001B[38;5;124mf\u001B[39m\u001B[38;5;124m\"\u001B[39m\u001B[38;5;132;01m{\u001B[39;00msentence[x]\u001B[38;5;241m.\u001B[39mget_neighbor(\u001B[38;5;241m-\u001B[39m\u001B[38;5;241m1\u001B[39m)[\u001B[38;5;124m'\u001B[39m\u001B[38;5;124mword\u001B[39m\u001B[38;5;124m'\u001B[39m]\u001B[38;5;132;01m}\u001B[39;00m\u001B[38;5;124m <- \u001B[39m\u001B[38;5;132;01m{\u001B[39;00mword\u001B[38;5;241m.\u001B[39mkey\u001B[38;5;132;01m}\u001B[39;00m\u001B[38;5;124m\"\u001B[39m)\n\u001B[1;32m     36\u001B[0m \u001B[38;5;28;01melse\u001B[39;00m:\n\u001B[0;32m---> 37\u001B[0m     \u001B[38;5;28;01mif\u001B[39;00m \u001B[43msentence\u001B[49m\u001B[43m[\u001B[49m\u001B[43mx\u001B[49m\u001B[43m]\u001B[49m\u001B[38;5;241;43m.\u001B[39;49m\u001B[43mget_neighbor\u001B[49m\u001B[43m(\u001B[49m\u001B[38;5;241;43m1\u001B[39;49m\u001B[43m)\u001B[49m\u001B[43m[\u001B[49m\u001B[38;5;124;43m'\u001B[39;49m\u001B[38;5;124;43mp\u001B[39;49m\u001B[38;5;124;43m'\u001B[39;49m\u001B[43m]\u001B[49m \u001B[38;5;241m>\u001B[39m\u001B[38;5;241m=\u001B[39m sentence[x]\u001B[38;5;241m.\u001B[39mget_neighbor(\u001B[38;5;241m-\u001B[39m\u001B[38;5;241m1\u001B[39m)[\u001B[38;5;124m'\u001B[39m\u001B[38;5;124mp\u001B[39m\u001B[38;5;124m'\u001B[39m]:\n\u001B[1;32m     38\u001B[0m         v\u001B[38;5;241m.\u001B[39madd(word\u001B[38;5;241m.\u001B[39mkey, \u001B[38;5;124m\"\u001B[39m\u001B[38;5;124mr\u001B[39m\u001B[38;5;124m\"\u001B[39m)\n\u001B[1;32m     39\u001B[0m         \u001B[38;5;28mprint\u001B[39m(\u001B[38;5;124mf\u001B[39m\u001B[38;5;124m\"\u001B[39m\u001B[38;5;132;01m{\u001B[39;00mword\u001B[38;5;241m.\u001B[39mkey\u001B[38;5;132;01m}\u001B[39;00m\u001B[38;5;124m -> \u001B[39m\u001B[38;5;132;01m{\u001B[39;00msentence[x]\u001B[38;5;241m.\u001B[39mget_neighbor(\u001B[38;5;241m1\u001B[39m)[\u001B[38;5;124m'\u001B[39m\u001B[38;5;124mword\u001B[39m\u001B[38;5;124m'\u001B[39m]\u001B[38;5;132;01m}\u001B[39;00m\u001B[38;5;124m\"\u001B[39m)\n",
      "\u001B[0;31mTypeError\u001B[0m: 'NoneType' object is not subscriptable"
     ]
    }
   ],
   "source": [
    "vector_assign(test.sentence).items"
   ],
   "metadata": {
    "collapsed": false,
    "pycharm": {
     "name": "#%%\n"
    }
   }
  },
  {
   "cell_type": "code",
   "execution_count": 53,
   "outputs": [
    {
     "name": "stdout",
     "output_type": "stream",
     "text": [
      "---\n",
      "0\n",
      "macbook dual display dock hiearcool ucn3320\n",
      "[{'items': ['macbook', 'dual', 'display', 'dock', 'hiearcool', 'ucn3320'], 'current_vector': 'l'}]\n",
      "---\n",
      "\n",
      "---\n",
      "1\n",
      "amd 6800 rog strix gpu tuf gaming x570 plus mobo amd 3200g cpu\n"
     ]
    },
    {
     "ename": "TypeError",
     "evalue": "'NoneType' object is not subscriptable",
     "output_type": "error",
     "traceback": [
      "\u001B[0;31m---------------------------------------------------------------------------\u001B[0m",
      "\u001B[0;31mTypeError\u001B[0m                                 Traceback (most recent call last)",
      "Cell \u001B[0;32mIn[53], line 8\u001B[0m\n\u001B[1;32m      6\u001B[0m \u001B[38;5;28mprint\u001B[39m(count)\n\u001B[1;32m      7\u001B[0m \u001B[38;5;28mprint\u001B[39m(\u001B[38;5;124m\"\u001B[39m\u001B[38;5;124m \u001B[39m\u001B[38;5;124m\"\u001B[39m\u001B[38;5;241m.\u001B[39mjoin(word))\n\u001B[0;32m----> 8\u001B[0m \u001B[38;5;28mprint\u001B[39m(\u001B[43mvector_assign\u001B[49m\u001B[43m(\u001B[49m\u001B[43ms\u001B[49m\u001B[38;5;241;43m.\u001B[39;49m\u001B[43msentence\u001B[49m\u001B[43m)\u001B[49m\u001B[38;5;241m.\u001B[39mitems)\n\u001B[1;32m      9\u001B[0m \u001B[38;5;28mprint\u001B[39m(\u001B[38;5;124m\"\u001B[39m\u001B[38;5;124m---\u001B[39m\u001B[38;5;130;01m\\n\u001B[39;00m\u001B[38;5;124m\"\u001B[39m)\n\u001B[1;32m     10\u001B[0m count \u001B[38;5;241m+\u001B[39m\u001B[38;5;241m=\u001B[39m \u001B[38;5;241m1\u001B[39m\n",
      "Cell \u001B[0;32mIn[39], line 36\u001B[0m, in \u001B[0;36mvector_assign\u001B[0;34m(sentence)\u001B[0m\n\u001B[1;32m     33\u001B[0m     v\u001B[38;5;241m.\u001B[39madd(word\u001B[38;5;241m.\u001B[39mkey, \u001B[38;5;124m\"\u001B[39m\u001B[38;5;124ml\u001B[39m\u001B[38;5;124m\"\u001B[39m)\n\u001B[1;32m     34\u001B[0m     \u001B[38;5;66;03m#print(f\"{sentence[x].get_neighbor(-1)['word']} <- {word.key}\")\u001B[39;00m\n\u001B[1;32m     35\u001B[0m \u001B[38;5;28;01melse\u001B[39;00m:\n\u001B[0;32m---> 36\u001B[0m     \u001B[38;5;28;01mif\u001B[39;00m \u001B[43msentence\u001B[49m\u001B[43m[\u001B[49m\u001B[43mx\u001B[49m\u001B[43m]\u001B[49m\u001B[38;5;241;43m.\u001B[39;49m\u001B[43mget_neighbor\u001B[49m\u001B[43m(\u001B[49m\u001B[38;5;241;43m1\u001B[39;49m\u001B[43m)\u001B[49m\u001B[43m[\u001B[49m\u001B[38;5;124;43m'\u001B[39;49m\u001B[38;5;124;43mp\u001B[39;49m\u001B[38;5;124;43m'\u001B[39;49m\u001B[43m]\u001B[49m \u001B[38;5;241m>\u001B[39m\u001B[38;5;241m=\u001B[39m sentence[x]\u001B[38;5;241m.\u001B[39mget_neighbor(\u001B[38;5;241m-\u001B[39m\u001B[38;5;241m1\u001B[39m)[\u001B[38;5;124m'\u001B[39m\u001B[38;5;124mp\u001B[39m\u001B[38;5;124m'\u001B[39m]:\n\u001B[1;32m     37\u001B[0m         v\u001B[38;5;241m.\u001B[39madd(word\u001B[38;5;241m.\u001B[39mkey, \u001B[38;5;124m\"\u001B[39m\u001B[38;5;124mr\u001B[39m\u001B[38;5;124m\"\u001B[39m)\n\u001B[1;32m     38\u001B[0m         \u001B[38;5;66;03m#print(f\"{word.key} -> {sentence[x].get_neighbor(1)['word']}\")\u001B[39;00m\n\u001B[1;32m     39\u001B[0m     \u001B[38;5;28;01melse\u001B[39;00m:\n",
      "\u001B[0;31mTypeError\u001B[0m: 'NoneType' object is not subscriptable"
     ]
    }
   ],
   "source": [
    "# Stress Testing The Vector method among all words\n",
    "count = 0\n",
    "for word in token_list[100:200]:\n",
    "    s = Sentence(matrix, tokenizer, \" \".join(word), verbose=False)\n",
    "    print(\"---\")\n",
    "    print(count)\n",
    "    print(\" \".join(word))\n",
    "    print(vector_assign(s.sentence).items)\n",
    "    print(\"---\\n\")\n",
    "    count += 1\n"
   ],
   "metadata": {
    "collapsed": false,
    "pycharm": {
     "name": "#%%\n"
    }
   }
  },
  {
   "cell_type": "code",
   "execution_count": 26,
   "outputs": [
    {
     "name": "stdout",
     "output_type": "stream",
     "text": [
      "Start: logitech\n",
      "Visited: g(0.18571428571428572)\n",
      "Visited: pro(0.11206896551724138)\n",
      "Visited: x(0.022448979591836733)\n",
      "EoP: superlight\n"
     ]
    }
   ],
   "source": [
    "vector_assign(test.sentence)"
   ],
   "metadata": {
    "collapsed": false
   }
  },
  {
   "cell_type": "code",
   "execution_count": 27,
   "outputs": [
    {
     "ename": "SyntaxError",
     "evalue": "invalid syntax (4052162935.py, line 1)",
     "output_type": "error",
     "traceback": [
      "\u001B[0;36m  Cell \u001B[0;32mIn[27], line 1\u001B[0;36m\u001B[0m\n\u001B[0;31m    From word a to word b (order 0) there are the following outcomes:\u001B[0m\n\u001B[0m         ^\u001B[0m\n\u001B[0;31mSyntaxError\u001B[0m\u001B[0;31m:\u001B[0m invalid syntax\n"
     ]
    }
   ],
   "source": [
    "traverse_to_first_order_end(test.sentence[0])"
   ],
   "metadata": {
    "collapsed": false,
    "pycharm": {
     "name": "#%%\n"
    }
   }
  },
  {
   "cell_type": "markdown",
   "source": [
    "From word a to word b (order 0) there are the following outcomes:\n",
    "* p(a,b) > 0.0 has 2 outcomes\n",
    "    * b is part of a\n",
    "    * b is NOT part of a, but has been seen in the training data\n",
    "* p(a,b) = 0.0 has 2 outcomes\n",
    "    * b is NOT part of a\n",
    "    * b is a new word\n",
    "        * b is part of a\n",
    "        * b is part of post b"
   ],
   "metadata": {
    "collapsed": false,
    "pycharm": {
     "name": "#%% md\n"
    }
   }
  },
  {
   "cell_type": "code",
   "execution_count": 12,
   "outputs": [
    {
     "data": {
      "text/plain": "0"
     },
     "execution_count": 12,
     "metadata": {},
     "output_type": "execute_result"
    }
   ],
   "source": [
    "matrix.p_row_word(0, 'rtx', '5080')"
   ],
   "metadata": {
    "collapsed": false,
    "pycharm": {
     "name": "#%%\n"
    }
   }
  },
  {
   "cell_type": "markdown",
   "source": [
    "I believe the case above where 5080 is a new word, is where we want to look at the word 'rtx' and see what is the probability that it is the final word. If it's close to 0, then we should determine that 5080 is tied to it"
   ],
   "metadata": {
    "collapsed": false,
    "pycharm": {
     "name": "#%% md\n"
    }
   }
  },
  {
   "cell_type": "code",
   "execution_count": 13,
   "outputs": [
    {
     "data": {
      "text/plain": "[{'word': 'g',\n  'ref': <__main__.Word at 0x2a97a1d18d0>,\n  'p': 0.18840579710144928,\n  'direction': 'FORWARD'},\n {'word': 'pro',\n  'ref': <__main__.Word at 0x2a97a1d1ed0>,\n  'p': 0.203125,\n  'direction': 'FORWARD'},\n {'word': 'x',\n  'ref': <__main__.Word at 0x2a97a1d1f90>,\n  'p': 0.13114754098360656,\n  'direction': 'FORWARD'},\n {'word': 'superlight',\n  'ref': <__main__.Word at 0x2a97a1d1990>,\n  'p': 0.08695652173913043,\n  'direction': 'FORWARD'},\n {'word': 'intel',\n  'ref': <__main__.Word at 0x2a97a1d0410>,\n  'p': 0.0,\n  'direction': 'FORWARD'},\n {'word': 'i7',\n  'ref': <__main__.Word at 0x2a97a1d00d0>,\n  'p': 0.0,\n  'direction': 'FORWARD'},\n {'word': '8700k',\n  'ref': <__main__.Word at 0x2a97a1d14d0>,\n  'p': 0.0,\n  'direction': 'FORWARD'}]"
     },
     "execution_count": 13,
     "metadata": {},
     "output_type": "execute_result"
    }
   ],
   "source": [
    "test.sentence[0].neighbors"
   ],
   "metadata": {
    "collapsed": false,
    "pycharm": {
     "name": "#%%\n"
    }
   }
  },
  {
   "cell_type": "markdown",
   "source": [
    "current thoughts, look at a sentence, for each word choose to point at either right or left, add up all the points and those will be your products"
   ],
   "metadata": {
    "collapsed": false,
    "pycharm": {
     "name": "#%% md\n"
    }
   }
  },
  {
   "cell_type": "code",
   "execution_count": null,
   "outputs": [],
   "source": [],
   "metadata": {
    "collapsed": false,
    "pycharm": {
     "name": "#%%\n"
    }
   }
  }
 ],
 "metadata": {
  "kernelspec": {
   "display_name": "Python 3",
   "language": "python",
   "name": "python3"
  },
  "language_info": {
   "codemirror_mode": {
    "name": "ipython",
    "version": 2
   },
   "file_extension": ".py",
   "mimetype": "text/x-python",
   "name": "python",
   "nbconvert_exporter": "python",
   "pygments_lexer": "ipython2",
   "version": "2.7.6"
  }
 },
 "nbformat": 4,
 "nbformat_minor": 0
}